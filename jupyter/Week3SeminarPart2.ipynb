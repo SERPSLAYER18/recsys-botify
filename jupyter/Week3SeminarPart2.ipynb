{
 "cells": [
  {
   "cell_type": "code",
   "execution_count": 3,
   "metadata": {
    "tags": []
   },
   "outputs": [],
   "source": [
    "import pandas as pd\n",
    "import numpy as np\n",
    "import scipy.stats as ss\n",
    "\n",
    "import lightfm\n",
    "import lightfm.data as ld\n",
    "import lightfm.evaluation as lv\n",
    "\n",
    "import tqdm\n",
    "import json\n",
    "import optuna\n",
    "\n",
    "import tensorboardX as tb\n",
    "\n",
    "import matplotlib.pyplot as pl\n",
    "import seaborn as sns\n",
    "\n",
    "np.random.seed(31337)"
   ]
  },
  {
   "cell_type": "code",
   "execution_count": 6,
   "metadata": {
    "tags": []
   },
   "outputs": [],
   "source": [
    "DATA_DIR = \"/Users/kliakhnovich/DEV/MADE/rec_sys_2023/recsys-itmo-spring-2023/botify/data/\""
   ]
  },
  {
   "cell_type": "code",
   "execution_count": 7,
   "metadata": {
    "tags": []
   },
   "outputs": [],
   "source": [
    "data = pd.read_json(DATA_DIR + \"input.json\", lines=True).drop_duplicates(subset=[\"user\", \"track\"])"
   ]
  },
  {
   "cell_type": "code",
   "execution_count": 8,
   "metadata": {
    "tags": []
   },
   "outputs": [],
   "source": [
    "positives = data[data[\"time\"] > 0.8].copy()\n",
    "positives[\"test\"] = np.random.random(len(positives)) >= 0.7"
   ]
  },
  {
   "cell_type": "code",
   "execution_count": 9,
   "metadata": {
    "tags": []
   },
   "outputs": [],
   "source": [
    "user_counts = positives[~positives[\"test\"]].groupby(\"user\").size()\n",
    "users = set(user_counts[user_counts >= 5].index.values)"
   ]
  },
  {
   "cell_type": "code",
   "execution_count": 10,
   "metadata": {
    "tags": []
   },
   "outputs": [],
   "source": [
    "track_counts = positives[~positives[\"test\"]].groupby(\"track\").size()\n",
    "tracks = set(track_counts[track_counts >= 5].index.values)"
   ]
  },
  {
   "cell_type": "markdown",
   "metadata": {},
   "source": [
    "## Train LightFM"
   ]
  },
  {
   "cell_type": "code",
   "execution_count": 11,
   "metadata": {
    "tags": []
   },
   "outputs": [
    {
     "data": {
      "text/plain": [
       "(11671, 4397)"
      ]
     },
     "execution_count": 11,
     "metadata": {},
     "output_type": "execute_result"
    }
   ],
   "source": [
    "train_data = positives[~positives[\"test\"] & positives[\"user\"].isin(users) & positives[\"track\"].isin(tracks)]\n",
    "test_data = positives[positives[\"test\"] & positives[\"user\"].isin(users) & positives[\"track\"].isin(tracks)]\n",
    "\n",
    "len(train_data), len(test_data)"
   ]
  },
  {
   "cell_type": "code",
   "execution_count": 12,
   "metadata": {
    "tags": []
   },
   "outputs": [],
   "source": [
    "dataset = ld.Dataset()\n",
    "dataset.fit(users, tracks)"
   ]
  },
  {
   "cell_type": "code",
   "execution_count": 13,
   "metadata": {
    "tags": []
   },
   "outputs": [],
   "source": [
    "train_interactions, _ = dataset.build_interactions(train_data[[\"user\", \"track\"]].itertuples(index=False, name=None))\n",
    "test_interactions, _ = dataset.build_interactions(test_data[[\"user\", \"track\"]].itertuples(index=False, name=None))"
   ]
  },
  {
   "cell_type": "code",
   "execution_count": 14,
   "metadata": {
    "tags": []
   },
   "outputs": [],
   "source": [
    "def fit_model(\n",
    "    epochs=1, \n",
    "    at=10,\n",
    "    loss=\"warp\",\n",
    "    no_components=30,\n",
    "    learning_rate=0.01, \n",
    "    max_sampled=10,\n",
    "    user_alpha=0.0, \n",
    "    item_alpha=0.0, \n",
    "    threads=30, \n",
    "    verbose=False,\n",
    "    patience=3,\n",
    "    epsilon=1e-6,\n",
    "):\n",
    "    model = lightfm.LightFM(\n",
    "        no_components=no_components,\n",
    "        loss=loss,\n",
    "        learning_rate=learning_rate,\n",
    "        max_sampled=max_sampled,\n",
    "        user_alpha=user_alpha,\n",
    "        item_alpha=item_alpha,\n",
    "    )\n",
    "\n",
    "    precisions_at = []\n",
    "    \n",
    "    for epoch in range(epochs):\n",
    "        model = model.fit_partial(train_interactions, num_threads=threads)\n",
    "        \n",
    "        precision_at = lv.precision_at_k(model, test_interactions, train_interactions=train_interactions, k=at, num_threads=threads)\n",
    "        \n",
    "        if verbose:\n",
    "            print(f\"{epoch}:\\t{np.mean(precision_at)} +/- {ss.sem(precision_at) * 1.96}\")\n",
    "            \n",
    "        precisions_at.append(np.mean(precision_at))\n",
    "            \n",
    "        if epoch > patience and all([precisions_at[-j] - precisions_at[-patience-1] < epsilon for j in range(1, patience + 1)]):\n",
    "            if verbose:\n",
    "                print(\"Early stopiing!\")\n",
    "            break\n",
    "        \n",
    "    else:\n",
    "        if verbose:\n",
    "            print(\"No early stopiing happened: increase epochs maybe?\")\n",
    "        \n",
    "    return model, precisions_at\n",
    "\n",
    "\n",
    "def objective(trial):\n",
    "    loss = trial.suggest_categorical(\"loss\", [\"warp\", \"bpr\"])\n",
    "    no_components = trial.suggest_categorical(\"no_components\", [10, 30, 50])\n",
    "    learning_rate = trial.suggest_categorical(\"learning_rate\", [0.0001, 0.001, 0.01])\n",
    "    max_sampled = trial.suggest_categorical(\"max_sampled\", [10, 20, 50, 100])\n",
    "    user_alpha = trial.suggest_categorical(\"user_alpha\", [0.0, 0.0001])\n",
    "    item_alpha = trial.suggest_categorical(\"item_alpha\", [0.0, 0.0001])\n",
    "    \n",
    "    model, precisions_at = fit_model(\n",
    "        epochs=5, \n",
    "        at=10,\n",
    "        loss=loss,\n",
    "        no_components=no_components, \n",
    "        learning_rate=learning_rate, \n",
    "        max_sampled=max_sampled, \n",
    "        user_alpha=user_alpha, \n",
    "        item_alpha=item_alpha,\n",
    "    )\n",
    "    \n",
    "    return precisions_at[-1]"
   ]
  },
  {
   "cell_type": "code",
   "execution_count": 15,
   "metadata": {
    "tags": []
   },
   "outputs": [
    {
     "name": "stderr",
     "output_type": "stream",
     "text": [
      "\u001b[32m[I 2023-04-13 00:14:44,862]\u001b[0m A new study created in memory with name: no-name-7333ec9d-9edc-4ec5-863a-28421e256649\u001b[0m\n",
      "\u001b[32m[I 2023-04-13 00:14:45,130]\u001b[0m Trial 0 finished with value: 0.004461942706257105 and parameters: {'loss': 'bpr', 'no_components': 10, 'learning_rate': 0.0001, 'max_sampled': 20, 'user_alpha': 0.0, 'item_alpha': 0.0001}. Best is trial 0 with value: 0.004461942706257105.\u001b[0m\n",
      "\u001b[32m[I 2023-04-13 00:14:45,368]\u001b[0m Trial 1 finished with value: 0.016097988933324814 and parameters: {'loss': 'bpr', 'no_components': 10, 'learning_rate': 0.001, 'max_sampled': 50, 'user_alpha': 0.0001, 'item_alpha': 0.0}. Best is trial 1 with value: 0.016097988933324814.\u001b[0m\n",
      "\u001b[32m[I 2023-04-13 00:14:45,581]\u001b[0m Trial 2 finished with value: 0.05188101902604103 and parameters: {'loss': 'warp', 'no_components': 10, 'learning_rate': 0.01, 'max_sampled': 10, 'user_alpha': 0.0, 'item_alpha': 0.0001}. Best is trial 2 with value: 0.05188101902604103.\u001b[0m\n",
      "\u001b[32m[I 2023-04-13 00:14:45,892]\u001b[0m Trial 3 finished with value: 0.0492563471198082 and parameters: {'loss': 'warp', 'no_components': 50, 'learning_rate': 0.001, 'max_sampled': 20, 'user_alpha': 0.0, 'item_alpha': 0.0001}. Best is trial 2 with value: 0.05188101902604103.\u001b[0m\n",
      "\u001b[32m[I 2023-04-13 00:14:46,232]\u001b[0m Trial 4 finished with value: 0.030358705669641495 and parameters: {'loss': 'bpr', 'no_components': 30, 'learning_rate': 0.001, 'max_sampled': 100, 'user_alpha': 0.0001, 'item_alpha': 0.0001}. Best is trial 2 with value: 0.05188101902604103.\u001b[0m\n",
      "\u001b[32m[I 2023-04-13 00:14:46,475]\u001b[0m Trial 5 finished with value: 0.006561679765582085 and parameters: {'loss': 'bpr', 'no_components': 10, 'learning_rate': 0.0001, 'max_sampled': 10, 'user_alpha': 0.0001, 'item_alpha': 0.0001}. Best is trial 2 with value: 0.05188101902604103.\u001b[0m\n",
      "\u001b[32m[I 2023-04-13 00:14:46,716]\u001b[0m Trial 6 finished with value: 0.017760278657078743 and parameters: {'loss': 'bpr', 'no_components': 10, 'learning_rate': 0.001, 'max_sampled': 20, 'user_alpha': 0.0, 'item_alpha': 0.0001}. Best is trial 2 with value: 0.05188101902604103.\u001b[0m\n",
      "\u001b[32m[I 2023-04-13 00:14:47,032]\u001b[0m Trial 7 finished with value: 0.05756780505180359 and parameters: {'loss': 'warp', 'no_components': 30, 'learning_rate': 0.01, 'max_sampled': 10, 'user_alpha': 0.0001, 'item_alpha': 0.0}. Best is trial 7 with value: 0.05756780505180359.\u001b[0m\n",
      "\u001b[32m[I 2023-04-13 00:14:47,262]\u001b[0m Trial 8 finished with value: 0.039545055478811264 and parameters: {'loss': 'bpr', 'no_components': 10, 'learning_rate': 0.01, 'max_sampled': 10, 'user_alpha': 0.0001, 'item_alpha': 0.0001}. Best is trial 7 with value: 0.05756780505180359.\u001b[0m\n",
      "\u001b[32m[I 2023-04-13 00:14:47,592]\u001b[0m Trial 9 finished with value: 0.019597550854086876 and parameters: {'loss': 'bpr', 'no_components': 50, 'learning_rate': 0.0001, 'max_sampled': 10, 'user_alpha': 0.0, 'item_alpha': 0.0001}. Best is trial 7 with value: 0.05756780505180359.\u001b[0m\n",
      "\u001b[32m[I 2023-04-13 00:14:47,908]\u001b[0m Trial 10 finished with value: 0.057742781937122345 and parameters: {'loss': 'warp', 'no_components': 30, 'learning_rate': 0.01, 'max_sampled': 50, 'user_alpha': 0.0001, 'item_alpha': 0.0}. Best is trial 10 with value: 0.057742781937122345.\u001b[0m\n",
      "\u001b[32m[I 2023-04-13 00:14:48,230]\u001b[0m Trial 11 finished with value: 0.056955378502607346 and parameters: {'loss': 'warp', 'no_components': 30, 'learning_rate': 0.01, 'max_sampled': 50, 'user_alpha': 0.0001, 'item_alpha': 0.0}. Best is trial 10 with value: 0.057742781937122345.\u001b[0m\n",
      "\u001b[32m[I 2023-04-13 00:14:48,551]\u001b[0m Trial 12 finished with value: 0.05608049035072327 and parameters: {'loss': 'warp', 'no_components': 30, 'learning_rate': 0.01, 'max_sampled': 50, 'user_alpha': 0.0001, 'item_alpha': 0.0}. Best is trial 10 with value: 0.057742781937122345.\u001b[0m\n",
      "\u001b[32m[I 2023-04-13 00:14:48,868]\u001b[0m Trial 13 finished with value: 0.05433070659637451 and parameters: {'loss': 'warp', 'no_components': 30, 'learning_rate': 0.01, 'max_sampled': 100, 'user_alpha': 0.0001, 'item_alpha': 0.0}. Best is trial 10 with value: 0.057742781937122345.\u001b[0m\n",
      "\u001b[32m[I 2023-04-13 00:14:49,188]\u001b[0m Trial 14 finished with value: 0.053718287497758865 and parameters: {'loss': 'warp', 'no_components': 30, 'learning_rate': 0.01, 'max_sampled': 50, 'user_alpha': 0.0001, 'item_alpha': 0.0}. Best is trial 10 with value: 0.057742781937122345.\u001b[0m\n",
      "\u001b[32m[I 2023-04-13 00:14:49,503]\u001b[0m Trial 15 finished with value: 0.058442696928977966 and parameters: {'loss': 'warp', 'no_components': 30, 'learning_rate': 0.01, 'max_sampled': 10, 'user_alpha': 0.0001, 'item_alpha': 0.0}. Best is trial 15 with value: 0.058442696928977966.\u001b[0m\n",
      "\u001b[32m[I 2023-04-13 00:14:49,819]\u001b[0m Trial 16 finished with value: 0.0602799654006958 and parameters: {'loss': 'warp', 'no_components': 30, 'learning_rate': 0.01, 'max_sampled': 50, 'user_alpha': 0.0001, 'item_alpha': 0.0}. Best is trial 16 with value: 0.0602799654006958.\u001b[0m\n",
      "\u001b[32m[I 2023-04-13 00:14:50,140]\u001b[0m Trial 17 finished with value: 0.05310586094856262 and parameters: {'loss': 'warp', 'no_components': 30, 'learning_rate': 0.01, 'max_sampled': 100, 'user_alpha': 0.0001, 'item_alpha': 0.0}. Best is trial 16 with value: 0.0602799654006958.\u001b[0m\n",
      "\u001b[32m[I 2023-04-13 00:14:50,457]\u001b[0m Trial 18 finished with value: 0.056605421006679535 and parameters: {'loss': 'warp', 'no_components': 50, 'learning_rate': 0.01, 'max_sampled': 10, 'user_alpha': 0.0001, 'item_alpha': 0.0}. Best is trial 16 with value: 0.0602799654006958.\u001b[0m\n",
      "\u001b[32m[I 2023-04-13 00:14:50,776]\u001b[0m Trial 19 finished with value: 0.0453193373978138 and parameters: {'loss': 'warp', 'no_components': 30, 'learning_rate': 0.0001, 'max_sampled': 50, 'user_alpha': 0.0001, 'item_alpha': 0.0}. Best is trial 16 with value: 0.0602799654006958.\u001b[0m\n",
      "\u001b[32m[I 2023-04-13 00:14:51,095]\u001b[0m Trial 20 finished with value: 0.058530185371637344 and parameters: {'loss': 'warp', 'no_components': 30, 'learning_rate': 0.01, 'max_sampled': 10, 'user_alpha': 0.0001, 'item_alpha': 0.0}. Best is trial 16 with value: 0.0602799654006958.\u001b[0m\n",
      "\u001b[32m[I 2023-04-13 00:14:51,413]\u001b[0m Trial 21 finished with value: 0.05354331061244011 and parameters: {'loss': 'warp', 'no_components': 30, 'learning_rate': 0.01, 'max_sampled': 10, 'user_alpha': 0.0001, 'item_alpha': 0.0}. Best is trial 16 with value: 0.0602799654006958.\u001b[0m\n",
      "\u001b[32m[I 2023-04-13 00:14:51,734]\u001b[0m Trial 22 finished with value: 0.057305335998535156 and parameters: {'loss': 'warp', 'no_components': 30, 'learning_rate': 0.01, 'max_sampled': 10, 'user_alpha': 0.0001, 'item_alpha': 0.0}. Best is trial 16 with value: 0.0602799654006958.\u001b[0m\n",
      "\u001b[32m[I 2023-04-13 00:14:52,051]\u001b[0m Trial 23 finished with value: 0.05800525099039078 and parameters: {'loss': 'warp', 'no_components': 30, 'learning_rate': 0.01, 'max_sampled': 10, 'user_alpha': 0.0001, 'item_alpha': 0.0}. Best is trial 16 with value: 0.0602799654006958.\u001b[0m\n",
      "\u001b[32m[I 2023-04-13 00:14:52,368]\u001b[0m Trial 24 finished with value: 0.052930884063243866 and parameters: {'loss': 'warp', 'no_components': 30, 'learning_rate': 0.01, 'max_sampled': 10, 'user_alpha': 0.0001, 'item_alpha': 0.0}. Best is trial 16 with value: 0.0602799654006958.\u001b[0m\n",
      "\u001b[32m[I 2023-04-13 00:14:52,684]\u001b[0m Trial 25 finished with value: 0.059317588806152344 and parameters: {'loss': 'warp', 'no_components': 50, 'learning_rate': 0.01, 'max_sampled': 50, 'user_alpha': 0.0001, 'item_alpha': 0.0}. Best is trial 16 with value: 0.0602799654006958.\u001b[0m\n",
      "\u001b[32m[I 2023-04-13 00:14:53,000]\u001b[0m Trial 26 finished with value: 0.06089238077402115 and parameters: {'loss': 'warp', 'no_components': 50, 'learning_rate': 0.01, 'max_sampled': 50, 'user_alpha': 0.0001, 'item_alpha': 0.0}. Best is trial 26 with value: 0.06089238077402115.\u001b[0m\n",
      "\u001b[32m[I 2023-04-13 00:14:53,316]\u001b[0m Trial 27 finished with value: 0.04916885495185852 and parameters: {'loss': 'warp', 'no_components': 50, 'learning_rate': 0.001, 'max_sampled': 50, 'user_alpha': 0.0, 'item_alpha': 0.0}. Best is trial 26 with value: 0.06089238077402115.\u001b[0m\n",
      "\u001b[32m[I 2023-04-13 00:14:53,628]\u001b[0m Trial 28 finished with value: 0.055380579084157944 and parameters: {'loss': 'warp', 'no_components': 50, 'learning_rate': 0.01, 'max_sampled': 50, 'user_alpha': 0.0001, 'item_alpha': 0.0}. Best is trial 26 with value: 0.06089238077402115.\u001b[0m\n",
      "\u001b[32m[I 2023-04-13 00:14:53,942]\u001b[0m Trial 29 finished with value: 0.04881889745593071 and parameters: {'loss': 'warp', 'no_components': 50, 'learning_rate': 0.0001, 'max_sampled': 50, 'user_alpha': 0.0, 'item_alpha': 0.0}. Best is trial 26 with value: 0.06089238077402115.\u001b[0m\n"
     ]
    }
   ],
   "source": [
    "study = optuna.create_study(direction=\"maximize\")\n",
    "study.optimize(objective, n_trials=30)\n",
    "best_params = study.best_params"
   ]
  },
  {
   "cell_type": "code",
   "execution_count": 16,
   "metadata": {
    "tags": []
   },
   "outputs": [
    {
     "data": {
      "text/plain": [
       "{'loss': 'warp',\n",
       " 'no_components': 50,\n",
       " 'learning_rate': 0.01,\n",
       " 'max_sampled': 50,\n",
       " 'user_alpha': 0.0001,\n",
       " 'item_alpha': 0.0}"
      ]
     },
     "execution_count": 16,
     "metadata": {},
     "output_type": "execute_result"
    }
   ],
   "source": [
    "best_params"
   ]
  },
  {
   "cell_type": "code",
   "execution_count": 17,
   "metadata": {
    "tags": []
   },
   "outputs": [
    {
     "name": "stdout",
     "output_type": "stream",
     "text": [
      "0:\t0.05030621588230133 +/- 0.004959470603356963\n",
      "1:\t0.05074365809559822 +/- 0.004977086398151248\n",
      "2:\t0.05284339562058449 +/- 0.0051888266706794275\n",
      "3:\t0.054243218153715134 +/- 0.0053034552472506\n",
      "4:\t0.0587051659822464 +/- 0.005582978945359966\n",
      "5:\t0.06036745384335518 +/- 0.005698743091274103\n",
      "6:\t0.06299212574958801 +/- 0.005828928406322361\n",
      "7:\t0.0673665776848793 +/- 0.006053867890711457\n",
      "8:\t0.06999125331640244 +/- 0.006242454470177508\n",
      "9:\t0.07226597517728806 +/- 0.00642143168822364\n",
      "10:\t0.07419072836637497 +/- 0.006597263521729844\n",
      "11:\t0.07594051212072372 +/- 0.006694629198201749\n",
      "12:\t0.07707787305116653 +/- 0.006767011053309454\n",
      "13:\t0.0772528424859047 +/- 0.006842511512698713\n",
      "14:\t0.07856518030166626 +/- 0.00685460279935434\n",
      "15:\t0.07874015718698502 +/- 0.006890689197512605\n",
      "16:\t0.07909011840820312 +/- 0.006894290278384537\n",
      "17:\t0.07926508784294128 +/- 0.006964017432396056\n",
      "18:\t0.07909011840820312 +/- 0.006958028157192722\n",
      "19:\t0.07935258001089096 +/- 0.006979665310139541\n",
      "20:\t0.0791776105761528 +/- 0.006969476285707734\n",
      "21:\t0.07926508784294128 +/- 0.006997744576179547\n",
      "22:\t0.07961505651473999 +/- 0.007026379151475567\n",
      "23:\t0.0791776031255722 +/- 0.006986346984603724\n",
      "24:\t0.0799650102853775 +/- 0.0070129980930215005\n",
      "25:\t0.07979002594947815 +/- 0.007019699204769987\n",
      "26:\t0.07952755689620972 +/- 0.006951827231560308\n",
      "27:\t0.07891513407230377 +/- 0.0069562524532867\n",
      "Early stopiing!\n"
     ]
    }
   ],
   "source": [
    "model, precisions_at = fit_model(\n",
    "    epochs=200,\n",
    "    at=10,\n",
    "    loss=best_params[\"loss\"],\n",
    "    no_components=best_params[\"no_components\"], \n",
    "    learning_rate=best_params[\"learning_rate\"], \n",
    "    max_sampled=best_params[\"max_sampled\"],\n",
    "    user_alpha=best_params[\"user_alpha\"],\n",
    "    item_alpha=best_params[\"item_alpha\"],\n",
    "    verbose=True,\n",
    ")"
   ]
  },
  {
   "cell_type": "code",
   "execution_count": 18,
   "metadata": {
    "tags": []
   },
   "outputs": [
    {
     "data": {
      "image/png": "[encoded data removed]",
      "text/plain": [
       "<Figure size 640x480 with 1 Axes>"
      ]
     },
     "metadata": {},
     "output_type": "display_data"
    }
   ],
   "source": [
    "figure, ax = pl.subplots()\n",
    "\n",
    "ax.plot(np.arange(len(precisions_at)), precisions_at)\n",
    "\n",
    "pass"
   ]
  },
  {
   "cell_type": "markdown",
   "metadata": {},
   "source": [
    "## Save track embeddings"
   ]
  },
  {
   "cell_type": "code",
   "execution_count": 23,
   "metadata": {
    "tags": []
   },
   "outputs": [],
   "source": [
    "biases, embeddings = model.get_item_representations()"
   ]
  },
  {
   "cell_type": "code",
   "execution_count": 24,
   "metadata": {
    "tags": []
   },
   "outputs": [],
   "source": [
    "model.item_biases *= 0.0"
   ]
  },
  {
   "cell_type": "code",
   "execution_count": 25,
   "metadata": {
    "tags": []
   },
   "outputs": [],
   "source": [
    "track_meta = pd.read_json(DATA_DIR + \"tracks.json\", lines=True)\n",
    "track_meta[\"dataset_index\"] = track_meta[\"track\"].map(lambda t: dataset.mapping()[2].get(t))"
   ]
  },
  {
   "cell_type": "code",
   "execution_count": 26,
   "metadata": {
    "tags": []
   },
   "outputs": [],
   "source": [
    "dataset_tracks = track_meta[pd.notnull(track_meta[\"dataset_index\"])].sort_values(\"dataset_index\")"
   ]
  },
  {
   "cell_type": "code",
   "execution_count": 27,
   "metadata": {
    "tags": []
   },
   "outputs": [],
   "source": [
    "writer = tb.SummaryWriter(comment='msd_ligtfm_embeddings', log_dir=DATA_DIR + \"tb\")\n",
    "writer.add_embedding(embeddings, metadata=list(dataset_tracks[[\"artist\", \"title\"]].itertuples(index=False, name=None)), tag=\"lightfm\", metadata_header=[\"artist\", \"title\"])\n",
    "writer.close()"
   ]
  },
  {
   "cell_type": "markdown",
   "metadata": {},
   "source": [
    "## Compute top recommendations"
   ]
  },
  {
   "cell_type": "code",
   "execution_count": 28,
   "metadata": {
    "tags": []
   },
   "outputs": [],
   "source": [
    "tracks = dataset_tracks[\"track\"].values\n",
    "users = [user for user, index in sorted(dataset.mapping()[0].items(), key=lambda kv: kv[1])]"
   ]
  },
  {
   "cell_type": "code",
   "execution_count": 30,
   "metadata": {
    "tags": []
   },
   "outputs": [
    {
     "name": "stderr",
     "output_type": "stream",
     "text": [
      "100%|█████████████████████████████████████████| 1526/1526 [00:00<00:00, 6626.66it/s]\n"
     ]
    }
   ],
   "source": [
    "with open(DATA_DIR + \"recommendations.json\", \"w\") as rf:\n",
    "    for user_index in tqdm.tqdm(range(dataset.user_features_shape()[0])):\n",
    "        predictions = model.predict(user_index, np.arange(dataset.item_features_shape()[0]), num_threads=30)\n",
    "        top = tracks[np.argsort(predictions)[-100:]]\n",
    "        recommendation = {\n",
    "            \"user\": int(users[user_index]),\n",
    "            \"tracks\": [int(x) for x in top]\n",
    "        }\n",
    "        rf.write(json.dumps(recommendation) + \"\\n\")"
   ]
  },
  {
   "cell_type": "code",
   "execution_count": null,
   "metadata": {},
   "outputs": [],
   "source": []
  }
 ],
 "metadata": {
  "kernelspec": {
   "display_name": "rec_sys",
   "language": "python",
   "name": "rec_sys"
  },
  "language_info": {
   "codemirror_mode": {
    "name": "ipython",
    "version": 3
   },
   "file_extension": ".py",
   "mimetype": "text/x-python",
   "name": "python",
   "nbconvert_exporter": "python",
   "pygments_lexer": "ipython3",
   "version": "3.9.16"
  }
 },
 "nbformat": 4,
 "nbformat_minor": 4
}

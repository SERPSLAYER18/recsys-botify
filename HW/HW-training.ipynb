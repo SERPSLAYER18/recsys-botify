{
 "cells": [
  {
   "cell_type": "code",
   "execution_count": 1,
   "metadata": {
    "id": "CrjZ-Ma78a0c",
    "tags": []
   },
   "outputs": [],
   "source": [
    "# !pip install pytorch_lightning\n",
    "# !pip install tensorboardX"
   ]
  },
  {
   "cell_type": "code",
   "execution_count": 1,
   "metadata": {
    "id": "1CmEukeg8Njd",
    "tags": []
   },
   "outputs": [],
   "source": [
    "# import tensorflow\n",
    "import datetime\n",
    "import json\n",
    "import os\n",
    "import re\n",
    "from collections import namedtuple\n",
    "\n",
    "import matplotlib.pyplot as plt\n",
    "import numpy as np\n",
    "import pandas as pd\n",
    "import pytorch_lightning as pl\n",
    "import seaborn as sns\n",
    "import sklearn.metrics as sm\n",
    "import tensorboardX as tb\n",
    "import torch\n",
    "import torch.nn as nn\n",
    "import torch.nn.functional as F\n",
    "import torch.utils.data as td\n",
    "import tqdm\n",
    "from pandarallel import pandarallel\n",
    "\n",
    "pandarallel.initialize(progress_bar=True)\n",
    "\n",
    "np.random.seed(31337)"
   ]
  },
  {
   "cell_type": "code",
   "execution_count": 85,
   "metadata": {
    "id": "MKlgAqq-8Njg",
    "tags": []
   },
   "outputs": [],
   "source": [
    "DATA_DIR = (\n",
    "    \"../botify/data/\"\n",
    ")"
   ]
  },
  {
   "cell_type": "code",
   "execution_count": 86,
   "metadata": {
    "tags": []
   },
   "outputs": [],
   "source": [
    "tracks_df = pd.read_json(DATA_DIR + \"tracks.json\", lines=True)"
   ]
  },
  {
   "cell_type": "code",
   "execution_count": 87,
   "metadata": {
    "tags": []
   },
   "outputs": [],
   "source": [
    "unique_artists = tracks_df.artist.unique()"
   ]
  },
  {
   "cell_type": "code",
   "execution_count": 88,
   "metadata": {
    "tags": []
   },
   "outputs": [],
   "source": [
    "ARTISTS_MAPPING = {artist: idx + 1 for idx, artist in enumerate(unique_artists)}"
   ]
  },
  {
   "cell_type": "code",
   "execution_count": 89,
   "metadata": {
    "tags": []
   },
   "outputs": [],
   "source": [
    "tracks_df[\"artist_id\"] = tracks_df.artist.apply(\n",
    "    lambda a: ARTISTS_MAPPING[a] if a in ARTISTS_MAPPING else 0\n",
    ")"
   ]
  },
  {
   "cell_type": "code",
   "execution_count": 90,
   "metadata": {
    "tags": []
   },
   "outputs": [
    {
     "data": {
      "text/html": [
       "<div>\n",
       "<style scoped>\n",
       "    .dataframe tbody tr th:only-of-type {\n",
       "        vertical-align: middle;\n",
       "    }\n",
       "\n",
       "    .dataframe tbody tr th {\n",
       "        vertical-align: top;\n",
       "    }\n",
       "\n",
       "    .dataframe thead th {\n",
       "        text-align: right;\n",
       "    }\n",
       "</style>\n",
       "<table border=\"1\" class=\"dataframe\">\n",
       "  <thead>\n",
       "    <tr style=\"text-align: right;\">\n",
       "      <th></th>\n",
       "      <th>artist</th>\n",
       "      <th>title</th>\n",
       "      <th>track</th>\n",
       "      <th>artist_id</th>\n",
       "    </tr>\n",
       "  </thead>\n",
       "  <tbody>\n",
       "    <tr>\n",
       "      <th>0</th>\n",
       "      <td>Jack Johnson</td>\n",
       "      <td>The Cove</td>\n",
       "      <td>0</td>\n",
       "      <td>1</td>\n",
       "    </tr>\n",
       "    <tr>\n",
       "      <th>1</th>\n",
       "      <td>Billy Preston</td>\n",
       "      <td>Nothing from Nothing</td>\n",
       "      <td>1</td>\n",
       "      <td>2</td>\n",
       "    </tr>\n",
       "    <tr>\n",
       "      <th>2</th>\n",
       "      <td>Paco De Lucia</td>\n",
       "      <td>Entre Dos Aguas</td>\n",
       "      <td>2</td>\n",
       "      <td>3</td>\n",
       "    </tr>\n",
       "    <tr>\n",
       "      <th>3</th>\n",
       "      <td>Josh Rouse</td>\n",
       "      <td>Under Cold Blue Stars</td>\n",
       "      <td>3</td>\n",
       "      <td>4</td>\n",
       "    </tr>\n",
       "    <tr>\n",
       "      <th>4</th>\n",
       "      <td>The Dead 60s</td>\n",
       "      <td>Riot Radio (Soundtrack Version)</td>\n",
       "      <td>4</td>\n",
       "      <td>5</td>\n",
       "    </tr>\n",
       "    <tr>\n",
       "      <th>5</th>\n",
       "      <td>Jorge Drexler</td>\n",
       "      <td>12 segundos de oscuridad</td>\n",
       "      <td>5</td>\n",
       "      <td>6</td>\n",
       "    </tr>\n",
       "    <tr>\n",
       "      <th>6</th>\n",
       "      <td>Eric Hutchinson</td>\n",
       "      <td>Food Chain (Album Version)</td>\n",
       "      <td>6</td>\n",
       "      <td>7</td>\n",
       "    </tr>\n",
       "    <tr>\n",
       "      <th>7</th>\n",
       "      <td>Kanye West</td>\n",
       "      <td>Stronger</td>\n",
       "      <td>7</td>\n",
       "      <td>8</td>\n",
       "    </tr>\n",
       "  </tbody>\n",
       "</table>\n",
       "</div>"
      ],
      "text/plain": [
       "            artist                            title  track  artist_id\n",
       "0     Jack Johnson                         The Cove      0          1\n",
       "1    Billy Preston             Nothing from Nothing      1          2\n",
       "2    Paco De Lucia                  Entre Dos Aguas      2          3\n",
       "3       Josh Rouse            Under Cold Blue Stars      3          4\n",
       "4     The Dead 60s  Riot Radio (Soundtrack Version)      4          5\n",
       "5    Jorge Drexler         12 segundos de oscuridad      5          6\n",
       "6  Eric Hutchinson       Food Chain (Album Version)      6          7\n",
       "7       Kanye West                         Stronger      7          8"
      ]
     },
     "execution_count": 90,
     "metadata": {},
     "output_type": "execute_result"
    }
   ],
   "source": [
    "tracks_df.head(8)"
   ]
  },
  {
   "cell_type": "code",
   "execution_count": 13,
   "metadata": {
    "id": "Y9aeehkP8Njh",
    "tags": []
   },
   "outputs": [],
   "source": [
    "data = pd.read_json(DATA_DIR + \"input.json\", lines=True)"
   ]
  },
  {
   "cell_type": "code",
   "execution_count": 14,
   "metadata": {
    "tags": []
   },
   "outputs": [],
   "source": [
    "data = pd.merge(\n",
    "    data,\n",
    "    tracks_df[[\"artist_id\", \"track\"]],\n",
    "    how=\"left\",\n",
    "    right_on=\"track\",\n",
    "    left_on=\"track\",\n",
    ")"
   ]
  },
  {
   "cell_type": "code",
   "execution_count": 15,
   "metadata": {
    "tags": []
   },
   "outputs": [],
   "source": [
    "data = data.sort_values([\"user\", \"timestamp\"])"
   ]
  },
  {
   "cell_type": "code",
   "execution_count": 16,
   "metadata": {
    "tags": []
   },
   "outputs": [
    {
     "data": {
      "text/html": [
       "<div>\n",
       "<style scoped>\n",
       "    .dataframe tbody tr th:only-of-type {\n",
       "        vertical-align: middle;\n",
       "    }\n",
       "\n",
       "    .dataframe tbody tr th {\n",
       "        vertical-align: top;\n",
       "    }\n",
       "\n",
       "    .dataframe thead th {\n",
       "        text-align: right;\n",
       "    }\n",
       "</style>\n",
       "<table border=\"1\" class=\"dataframe\">\n",
       "  <thead>\n",
       "    <tr style=\"text-align: right;\">\n",
       "      <th></th>\n",
       "      <th>message</th>\n",
       "      <th>timestamp</th>\n",
       "      <th>user</th>\n",
       "      <th>track</th>\n",
       "      <th>time</th>\n",
       "      <th>latency</th>\n",
       "      <th>recommendation</th>\n",
       "      <th>experiments</th>\n",
       "      <th>artist_id</th>\n",
       "    </tr>\n",
       "  </thead>\n",
       "  <tbody>\n",
       "    <tr>\n",
       "      <th>6433</th>\n",
       "      <td>next</td>\n",
       "      <td>2023-04-15 14:37:19.349</td>\n",
       "      <td>0</td>\n",
       "      <td>12873</td>\n",
       "      <td>1.00</td>\n",
       "      <td>0.000236</td>\n",
       "      <td>18613.0</td>\n",
       "      <td>{'CONTEXTUAL_ARTISTS': 'INDEXED'}</td>\n",
       "      <td>4344</td>\n",
       "    </tr>\n",
       "    <tr>\n",
       "      <th>6441</th>\n",
       "      <td>next</td>\n",
       "      <td>2023-04-15 14:37:19.355</td>\n",
       "      <td>0</td>\n",
       "      <td>18613</td>\n",
       "      <td>0.00</td>\n",
       "      <td>0.000308</td>\n",
       "      <td>43283.0</td>\n",
       "      <td>{'CONTEXTUAL_ARTISTS': 'INDEXED'}</td>\n",
       "      <td>1015</td>\n",
       "    </tr>\n",
       "    <tr>\n",
       "      <th>6448</th>\n",
       "      <td>next</td>\n",
       "      <td>2023-04-15 14:37:19.361</td>\n",
       "      <td>0</td>\n",
       "      <td>43283</td>\n",
       "      <td>0.00</td>\n",
       "      <td>0.000342</td>\n",
       "      <td>47757.0</td>\n",
       "      <td>{'CONTEXTUAL_ARTISTS': 'INDEXED'}</td>\n",
       "      <td>2500</td>\n",
       "    </tr>\n",
       "    <tr>\n",
       "      <th>6456</th>\n",
       "      <td>next</td>\n",
       "      <td>2023-04-15 14:37:19.366</td>\n",
       "      <td>0</td>\n",
       "      <td>47757</td>\n",
       "      <td>0.00</td>\n",
       "      <td>0.000297</td>\n",
       "      <td>21959.0</td>\n",
       "      <td>{'CONTEXTUAL_ARTISTS': 'INDEXED'}</td>\n",
       "      <td>4758</td>\n",
       "    </tr>\n",
       "    <tr>\n",
       "      <th>6462</th>\n",
       "      <td>next</td>\n",
       "      <td>2023-04-15 14:37:19.370</td>\n",
       "      <td>0</td>\n",
       "      <td>21959</td>\n",
       "      <td>0.97</td>\n",
       "      <td>0.000245</td>\n",
       "      <td>2473.0</td>\n",
       "      <td>{'CONTEXTUAL_ARTISTS': 'INDEXED'}</td>\n",
       "      <td>5396</td>\n",
       "    </tr>\n",
       "    <tr>\n",
       "      <th>...</th>\n",
       "      <td>...</td>\n",
       "      <td>...</td>\n",
       "      <td>...</td>\n",
       "      <td>...</td>\n",
       "      <td>...</td>\n",
       "      <td>...</td>\n",
       "      <td>...</td>\n",
       "      <td>...</td>\n",
       "      <td>...</td>\n",
       "    </tr>\n",
       "    <tr>\n",
       "      <th>342856</th>\n",
       "      <td>next</td>\n",
       "      <td>2023-04-15 14:41:32.106</td>\n",
       "      <td>9999</td>\n",
       "      <td>36365</td>\n",
       "      <td>0.00</td>\n",
       "      <td>0.000411</td>\n",
       "      <td>24863.0</td>\n",
       "      <td>{'CONTEXTUAL_ARTISTS': 'INDEXED'}</td>\n",
       "      <td>2046</td>\n",
       "    </tr>\n",
       "    <tr>\n",
       "      <th>342864</th>\n",
       "      <td>next</td>\n",
       "      <td>2023-04-15 14:41:32.113</td>\n",
       "      <td>9999</td>\n",
       "      <td>24863</td>\n",
       "      <td>0.01</td>\n",
       "      <td>0.000337</td>\n",
       "      <td>18477.0</td>\n",
       "      <td>{'CONTEXTUAL_ARTISTS': 'INDEXED'}</td>\n",
       "      <td>3205</td>\n",
       "    </tr>\n",
       "    <tr>\n",
       "      <th>342872</th>\n",
       "      <td>next</td>\n",
       "      <td>2023-04-15 14:41:32.118</td>\n",
       "      <td>9999</td>\n",
       "      <td>18477</td>\n",
       "      <td>0.00</td>\n",
       "      <td>0.000693</td>\n",
       "      <td>22905.0</td>\n",
       "      <td>{'CONTEXTUAL_ARTISTS': 'INDEXED'}</td>\n",
       "      <td>590</td>\n",
       "    </tr>\n",
       "    <tr>\n",
       "      <th>342882</th>\n",
       "      <td>next</td>\n",
       "      <td>2023-04-15 14:41:32.128</td>\n",
       "      <td>9999</td>\n",
       "      <td>22905</td>\n",
       "      <td>0.01</td>\n",
       "      <td>0.000314</td>\n",
       "      <td>36286.0</td>\n",
       "      <td>{'CONTEXTUAL_ARTISTS': 'INDEXED'}</td>\n",
       "      <td>6647</td>\n",
       "    </tr>\n",
       "    <tr>\n",
       "      <th>342890</th>\n",
       "      <td>last</td>\n",
       "      <td>2023-04-15 14:41:32.134</td>\n",
       "      <td>9999</td>\n",
       "      <td>36286</td>\n",
       "      <td>0.01</td>\n",
       "      <td>0.000045</td>\n",
       "      <td>NaN</td>\n",
       "      <td>{'CONTEXTUAL_ARTISTS': 'INDEXED'}</td>\n",
       "      <td>3499</td>\n",
       "    </tr>\n",
       "  </tbody>\n",
       "</table>\n",
       "<p>349788 rows × 9 columns</p>\n",
       "</div>"
      ],
      "text/plain": [
       "       message               timestamp  user  track  time   latency   \n",
       "6433      next 2023-04-15 14:37:19.349     0  12873  1.00  0.000236  \\\n",
       "6441      next 2023-04-15 14:37:19.355     0  18613  0.00  0.000308   \n",
       "6448      next 2023-04-15 14:37:19.361     0  43283  0.00  0.000342   \n",
       "6456      next 2023-04-15 14:37:19.366     0  47757  0.00  0.000297   \n",
       "6462      next 2023-04-15 14:37:19.370     0  21959  0.97  0.000245   \n",
       "...        ...                     ...   ...    ...   ...       ...   \n",
       "342856    next 2023-04-15 14:41:32.106  9999  36365  0.00  0.000411   \n",
       "342864    next 2023-04-15 14:41:32.113  9999  24863  0.01  0.000337   \n",
       "342872    next 2023-04-15 14:41:32.118  9999  18477  0.00  0.000693   \n",
       "342882    next 2023-04-15 14:41:32.128  9999  22905  0.01  0.000314   \n",
       "342890    last 2023-04-15 14:41:32.134  9999  36286  0.01  0.000045   \n",
       "\n",
       "        recommendation                        experiments  artist_id  \n",
       "6433           18613.0  {'CONTEXTUAL_ARTISTS': 'INDEXED'}       4344  \n",
       "6441           43283.0  {'CONTEXTUAL_ARTISTS': 'INDEXED'}       1015  \n",
       "6448           47757.0  {'CONTEXTUAL_ARTISTS': 'INDEXED'}       2500  \n",
       "6456           21959.0  {'CONTEXTUAL_ARTISTS': 'INDEXED'}       4758  \n",
       "6462            2473.0  {'CONTEXTUAL_ARTISTS': 'INDEXED'}       5396  \n",
       "...                ...                                ...        ...  \n",
       "342856         24863.0  {'CONTEXTUAL_ARTISTS': 'INDEXED'}       2046  \n",
       "342864         18477.0  {'CONTEXTUAL_ARTISTS': 'INDEXED'}       3205  \n",
       "342872         22905.0  {'CONTEXTUAL_ARTISTS': 'INDEXED'}        590  \n",
       "342882         36286.0  {'CONTEXTUAL_ARTISTS': 'INDEXED'}       6647  \n",
       "342890             NaN  {'CONTEXTUAL_ARTISTS': 'INDEXED'}       3499  \n",
       "\n",
       "[349788 rows x 9 columns]"
      ]
     },
     "execution_count": 16,
     "metadata": {},
     "output_type": "execute_result"
    }
   ],
   "source": [
    "data"
   ]
  },
  {
   "cell_type": "code",
   "execution_count": 23,
   "metadata": {
    "id": "zj9JftT88Njh",
    "tags": []
   },
   "outputs": [],
   "source": [
    "Pair = namedtuple(\n",
    "    \"Session\",\n",
    "    [\"user\", \"context_track\", \"context_artist\", \"next_track\", \"next_artist\", \"time\"],\n",
    ")\n",
    "\n",
    "\n",
    "def get_pairs(user_data):\n",
    "    pairs = []\n",
    "    context_track = None\n",
    "    context_artists = None\n",
    "    for _, row in user_data.sort_values(\"timestamp\").iterrows():\n",
    "        if context_track is None:\n",
    "            context_track = row[\"track\"]\n",
    "            context_artists = row[\"artist_id\"]\n",
    "        else:\n",
    "            pairs.append(\n",
    "                Pair(\n",
    "                    row[\"user\"],\n",
    "                    context_track,\n",
    "                    context_artists,\n",
    "                    row[\"track\"],\n",
    "                    row[\"artist_id\"],\n",
    "                    row[\"time\"],\n",
    "                )\n",
    "            )\n",
    "\n",
    "        if row[\"message\"] == \"last\":\n",
    "            context_track = None\n",
    "            context_artists = None\n",
    "    return pairs"
   ]
  },
  {
   "cell_type": "code",
   "execution_count": 24,
   "metadata": {
    "id": "4c_Ifi9_8Nji",
    "tags": []
   },
   "outputs": [],
   "source": [
    "pairs = pd.DataFrame(\n",
    "    data.groupby(\"user\").apply(get_pairs).explode().values.tolist(),\n",
    "    columns=[\n",
    "        \"user\",\n",
    "        \"context_track\",\n",
    "        \"context_artist\",\n",
    "        \"next_track\",\n",
    "        \"next_artist\",\n",
    "        \"time\",\n",
    "    ],\n",
    ")"
   ]
  },
  {
   "cell_type": "code",
   "execution_count": 25,
   "metadata": {
    "id": "eA0LzG3Z8Nji",
    "tags": []
   },
   "outputs": [
    {
     "data": {
      "image/png": "[encoded data removed]",
      "text/plain": [
       "<Figure size 640x480 with 1 Axes>"
      ]
     },
     "metadata": {},
     "output_type": "display_data"
    }
   ],
   "source": [
    "figure, ax = plt.subplots()\n",
    "sns.histplot(pairs[\"time\"], ax=ax)\n",
    "pass"
   ]
  },
  {
   "cell_type": "markdown",
   "metadata": {
    "id": "PkYDflFK8Njj"
   },
   "source": [
    "## Train Model"
   ]
  },
  {
   "cell_type": "code",
   "execution_count": 26,
   "metadata": {
    "id": "cE63YQAi8Njj",
    "tags": []
   },
   "outputs": [
    {
     "data": {
      "text/plain": [
       "(247931, 30448, 30824)"
      ]
     },
     "execution_count": 26,
     "metadata": {},
     "output_type": "execute_result"
    }
   ],
   "source": [
    "rdm = np.random.random(len(pairs))\n",
    "train_data = pairs[rdm < 0.8]\n",
    "val_data = pairs[(rdm >= 0.8) & (rdm < 0.9)]\n",
    "test_data = pairs[rdm >= 0.9]\n",
    "\n",
    "len(train_data), len(val_data), len(test_data)"
   ]
  },
  {
   "cell_type": "code",
   "execution_count": 51,
   "metadata": {
    "id": "2N72w3Ym8Njl",
    "tags": []
   },
   "outputs": [],
   "source": [
    "class Encoder(nn.Module):\n",
    "    def __init__(self, artists=12000, tracks=50000, emb_dim=128, dropout = 0.5):\n",
    "        super().__init__()\n",
    "        self.artists = artists\n",
    "        self.tracks = tracks\n",
    "        self.emb_dim = emb_dim\n",
    "     \n",
    "        \n",
    "\n",
    "        self.artist_embedding = nn.Embedding(\n",
    "            num_embeddings=self.artists,\n",
    "            embedding_dim=self.emb_dim,\n",
    "            dtype=torch.float32,\n",
    "        )\n",
    "        self.track_embedding = nn.Embedding(\n",
    "            num_embeddings=self.tracks,\n",
    "            embedding_dim=self.emb_dim,\n",
    "            dtype=torch.float32,\n",
    "        )\n",
    "        self.dropout = nn.Dropout1d(dropout)\n",
    "        self.linear_1 = nn.Linear(self.emb_dim, self.emb_dim)\n",
    "\n",
    "    def forward(self, track_ids, artist_ids):\n",
    "        track_emb = self.dropout(self.track_embedding(track_ids))\n",
    "        artist_emb = self.dropout(self.artist_embedding(artist_ids))\n",
    "        \n",
    "        out = (artist_emb + track_emb)/2\n",
    "\n",
    "        return out\n",
    "\n",
    "\n",
    "class ContextualRanker(pl.LightningModule):\n",
    "    def __init__(self, artists=12000, tracks=50000, emb_dim=128):\n",
    "        super().__init__()\n",
    "\n",
    "        self.artists = artists\n",
    "        self.tracks = tracks\n",
    "        self.emb_dim = emb_dim\n",
    "\n",
    "        self.context_encoder = Encoder(self.artists, self.tracks, emb_dim=self.emb_dim, dropout=0.0)\n",
    "        self.next_encoder = Encoder(self.artists, self.tracks, emb_dim=self.emb_dim, dropout=0.0)\n",
    "\n",
    "    def forward(self, x):\n",
    "        context_emb = self.context_encoder(x[:, 0], x[:, 1])\n",
    "        next_emb = self.next_encoder(x[:, 2], x[:, 3])\n",
    "        logits = torch.sum(context_emb * next_emb, dim=1)\n",
    "        return logits\n",
    "\n",
    "    def step(self, batch, batch_idx, metric, prog_bar=False):\n",
    "        x, y = batch\n",
    "\n",
    "        predictions = self.forward(x)\n",
    "        loss = F.mse_loss(predictions, y.float(), reduction=\"mean\")\n",
    "        \n",
    "        self.log(metric, loss, prog_bar=prog_bar)\n",
    "        return loss\n",
    "\n",
    "    def test_step(self, batch, batch_idx, prog_bar=False):\n",
    "        self.eval()\n",
    "        loss = self.step(batch, batch_idx, \"test_loss\")\n",
    "        self.log(\"test_loss\", loss, prog_bar=prog_bar)\n",
    "\n",
    "\n",
    "    def training_step(self, batch, batch_idx):\n",
    "        self.train()\n",
    "        return self.step(batch, batch_idx, \"train_loss\")\n",
    "\n",
    "    def validation_step(self, batch, batch_idx):\n",
    "        self.eval()\n",
    "        return self.step(batch, batch_idx, \"val_loss\", True)\n",
    "\n",
    "    def configure_optimizers(self):\n",
    "        optimizer = torch.optim.Adam(self.parameters(), lr=1e-3, weight_decay=1e-5)\n",
    "        lr_scheduler = torch.optim.lr_scheduler.ReduceLROnPlateau(\n",
    "            optimizer, patience=3, verbose=True\n",
    "        )\n",
    "        scheduler = {\n",
    "            \"scheduler\": lr_scheduler,\n",
    "            \"reduce_on_plateau\": True,\n",
    "            \"monitor\": \"val_loss\",\n",
    "        }\n",
    "        return [optimizer], [scheduler]"
   ]
  },
  {
   "cell_type": "code",
   "execution_count": 54,
   "metadata": {
    "id": "XSZTEW7h9d3p",
    "tags": []
   },
   "outputs": [],
   "source": [
    "class ContextualRankerData(pl.LightningDataModule):\n",
    "    def __init__(self, train_data, val_data, test_data, features):\n",
    "        super().__init__()\n",
    "        self.train_data = train_data\n",
    "        self.val_data = val_data\n",
    "        self.test_data = test_data\n",
    "        self.features = features\n",
    "\n",
    "    def prepare_data(self):\n",
    "        pass\n",
    "        # self.test_data = self.test_data.assign(\n",
    "        #     rdm=np.random.random(len(self.test_data))\n",
    "        # ).assign(avg=self.train_data[\"time\"].mean())\n",
    "\n",
    "    def setup(self, stage=None):\n",
    "        if stage == \"fit\" or stage is None:\n",
    "            self.train_dataset = td.TensorDataset(\n",
    "                torch.from_numpy(self.train_data[self.features].values),\n",
    "                torch.from_numpy(self.train_data[\"time\"].values).to(\n",
    "                    dtype=torch.float32\n",
    "                ),\n",
    "            )\n",
    "\n",
    "        self.val_dataset = td.TensorDataset(\n",
    "            torch.from_numpy(self.val_data[self.features].values),\n",
    "            torch.from_numpy(self.val_data[\"time\"].values).to(dtype=torch.float32),\n",
    "        )\n",
    "\n",
    "        if stage == \"test\" or stage is None:\n",
    "            self.test_dataset = td.TensorDataset(\n",
    "                torch.from_numpy(self.test_data[self.features].values),\n",
    "                torch.from_numpy(self.test_data[\"time\"].values).to(dtype=torch.float32),\n",
    "            )\n",
    "\n",
    "    def train_dataloader(self):\n",
    "        return td.DataLoader(\n",
    "            self.train_dataset, batch_size=4096, shuffle=True, num_workers=8\n",
    "        )\n",
    "\n",
    "    def val_dataloader(self):\n",
    "        return td.DataLoader(self.val_dataset, batch_size=4096, num_workers=8)\n",
    "\n",
    "    def test_dataloader(self):\n",
    "        return td.DataLoader(\n",
    "            self.test_dataset, batch_size=512, shuffle=False, num_workers=8\n",
    "        )"
   ]
  },
  {
   "cell_type": "code",
   "execution_count": 55,
   "metadata": {
    "id": "JWZ8cqTZ8Njm",
    "tags": []
   },
   "outputs": [
    {
     "name": "stderr",
     "output_type": "stream",
     "text": [
      "GPU available: True (mps), used: True\n",
      "TPU available: False, using: 0 TPU cores\n",
      "IPU available: False, using: 0 IPUs\n",
      "HPU available: False, using: 0 HPUs\n"
     ]
    }
   ],
   "source": [
    "EMB_SIZE = 128\n",
    "net = ContextualRanker(emb_dim=EMB_SIZE)\n",
    "data_module = ContextualRankerData(\n",
    "    train_data,\n",
    "    val_data,\n",
    "    test_data,\n",
    "    features=[\"context_track\", \"context_artist\", \"next_track\", \"next_artist\"],\n",
    ")\n",
    "\n",
    "checkpoint_callback = pl.callbacks.ModelCheckpoint(monitor=\"val_loss\")\n",
    "\n",
    "trainer = pl.Trainer(\n",
    "    max_epochs=400,\n",
    "    accelerator=\"mps\",\n",
    "    devices=1,\n",
    "    precision=32,\n",
    "    callbacks=[\n",
    "        pl.callbacks.early_stopping.EarlyStopping(monitor=\"val_loss\", patience=10),\n",
    "        pl.callbacks.LearningRateMonitor(logging_interval=\"step\"),\n",
    "        checkpoint_callback,\n",
    "    ],\n",
    ")"
   ]
  },
  {
   "cell_type": "code",
   "execution_count": 91,
   "metadata": {
    "tags": []
   },
   "outputs": [],
   "source": [
    "%load_ext tensorboard"
   ]
  },
  {
   "cell_type": "code",
   "execution_count": null,
   "metadata": {
    "id": "omCmoxVhGfJ2",
    "tags": []
   },
   "outputs": [
    {
     "name": "stdout",
     "output_type": "stream",
     "text": [
      "TensorFlow installation not found - running with reduced feature set.\n",
      "TensorBoard 2.12.1 at http://localhost:6006/ (Press CTRL+C to quit)\n",
      "W0416 02:40:44.107362 6153465856 plugin_event_multiplexer.py:266] Deleting accumulator 'version_1'\n",
      "W0416 02:40:44.107494 6153465856 plugin_event_multiplexer.py:266] Deleting accumulator 'version_0'\n",
      "W0416 02:40:54.126576 6153465856 plugin_event_multiplexer.py:266] Deleting accumulator 'version_4'\n",
      "W0416 02:40:54.126652 6153465856 plugin_event_multiplexer.py:266] Deleting accumulator 'version_3'\n",
      "W0416 02:41:09.149458 6153465856 plugin_event_multiplexer.py:266] Deleting accumulator 'version_16'\n",
      "W0416 02:41:09.149652 6153465856 plugin_event_multiplexer.py:266] Deleting accumulator 'version_12'\n",
      "W0416 02:41:09.149674 6153465856 plugin_event_multiplexer.py:266] Deleting accumulator 'version_11'\n",
      "W0416 02:41:09.149690 6153465856 plugin_event_multiplexer.py:266] Deleting accumulator 'version_15'\n",
      "W0416 12:33:19.700874 6153465856 plugin_event_multiplexer.py:266] Deleting accumulator 'version_19'\n",
      "W0416 12:33:19.704905 6153465856 plugin_event_multiplexer.py:266] Deleting accumulator 'version_21'\n",
      "W0416 12:33:19.705018 6153465856 plugin_event_multiplexer.py:266] Deleting accumulator 'version_18'\n",
      "W0416 12:33:19.705087 6153465856 plugin_event_multiplexer.py:266] Deleting accumulator 'version_17'\n",
      "W0416 12:33:19.705152 6153465856 plugin_event_multiplexer.py:266] Deleting accumulator 'version_27'\n",
      "W0416 12:33:19.705214 6153465856 plugin_event_multiplexer.py:266] Deleting accumulator 'version_20'\n",
      "W0416 12:33:19.705389 6153465856 plugin_event_multiplexer.py:266] Deleting accumulator 'version_26'\n"
     ]
    }
   ],
   "source": [
    "!cd ..;tensorboard --logdir HW/lightning_logs/ --host localhost --port 6006"
   ]
  },
  {
   "cell_type": "code",
   "execution_count": null,
   "metadata": {
    "id": "Sqy8qDr98Njm",
    "tags": []
   },
   "outputs": [],
   "source": [
    "trainer.fit(net, data_module)"
   ]
  },
  {
   "cell_type": "code",
   "execution_count": 59,
   "metadata": {
    "id": "_IeB7jzb8Njn",
    "tags": []
   },
   "outputs": [],
   "source": [
    "best = ContextualRanker.load_from_checkpoint(\n",
    "    checkpoint_callback.best_model_path,\n",
    "    #'/Users/kliakhnovich/DEV/MADE/rec_sys_2023/recsys-itmo-spring-2023/jupyter/lightning_logs/version_6/checkpoints/epoch=63-step=4864.ckpt',\n",
    "    embedding_dim=EMB_SIZE,\n",
    ")"
   ]
  },
  {
   "cell_type": "code",
   "execution_count": 60,
   "metadata": {
    "tags": []
   },
   "outputs": [
    {
     "data": {
      "application/vnd.jupyter.widget-view+json": {
       "model_id": "38341acbd24747de8d1faadcfb7ec1a5",
       "version_major": 2,
       "version_minor": 0
      },
      "text/plain": [
       "Testing: 0it [00:00, ?it/s]"
      ]
     },
     "metadata": {},
     "output_type": "display_data"
    },
    {
     "name": "stdout",
     "output_type": "stream",
     "text": [
      "────────────────────────────────────────────────────────────────────────────────────────────────────────────────────────\n",
      "       Test metric             DataLoader 0\n",
      "────────────────────────────────────────────────────────────────────────────────────────────────────────────────────────\n",
      "        test_loss           0.10706011205911636\n",
      "────────────────────────────────────────────────────────────────────────────────────────────────────────────────────────\n"
     ]
    },
    {
     "data": {
      "text/plain": [
       "[{'test_loss': 0.10706011205911636}]"
      ]
     },
     "execution_count": 60,
     "metadata": {},
     "output_type": "execute_result"
    }
   ],
   "source": [
    "trainer.test(net, data_module)"
   ]
  },
  {
   "cell_type": "code",
   "execution_count": 61,
   "metadata": {
    "id": "HTUgc8_hQ7N0",
    "tags": []
   },
   "outputs": [
    {
     "data": {
      "application/vnd.jupyter.widget-view+json": {
       "model_id": "956b0c80d5e0479b89cf44c71de77eb0",
       "version_major": 2,
       "version_minor": 0
      },
      "text/plain": [
       "Testing: 0it [00:00, ?it/s]"
      ]
     },
     "metadata": {},
     "output_type": "display_data"
    },
    {
     "name": "stdout",
     "output_type": "stream",
     "text": [
      "────────────────────────────────────────────────────────────────────────────────────────────────────────────────────────\n",
      "       Test metric             DataLoader 0\n",
      "────────────────────────────────────────────────────────────────────────────────────────────────────────────────────────\n",
      "        test_loss           0.10705920308828354\n",
      "────────────────────────────────────────────────────────────────────────────────────────────────────────────────────────\n"
     ]
    },
    {
     "data": {
      "text/plain": [
       "[{'test_loss': 0.10705920308828354}]"
      ]
     },
     "execution_count": 61,
     "metadata": {},
     "output_type": "execute_result"
    }
   ],
   "source": [
    "trainer.test(best, data_module)"
   ]
  },
  {
   "cell_type": "markdown",
   "metadata": {
    "id": "tRZLUR9_8Njo"
   },
   "source": [
    "## Compute top recommendations"
   ]
  },
  {
   "cell_type": "code",
   "execution_count": 62,
   "metadata": {
    "tags": []
   },
   "outputs": [],
   "source": [
    "net = best"
   ]
  },
  {
   "cell_type": "code",
   "execution_count": 63,
   "metadata": {
    "tags": []
   },
   "outputs": [],
   "source": [
    "net = net.eval()"
   ]
  },
  {
   "cell_type": "code",
   "execution_count": 64,
   "metadata": {
    "tags": []
   },
   "outputs": [],
   "source": [
    "model = net\n",
    "model.eval()\n",
    "with torch.no_grad():\n",
    "    context_embs = tracks_df.apply(\n",
    "        lambda x: model.context_encoder( torch.tensor([x[\"track\"]]),torch.tensor([x[\"artist_id\"]])), axis=1\n",
    "    )\n",
    "    next_embs = tracks_df.apply(\n",
    "        lambda x: model.next_encoder( torch.tensor([x[\"track\"]]),torch.tensor([x[\"artist_id\"]])), axis=1\n",
    "    )\n",
    "    \n",
    "    context_embs = torch.cat(list(context_embs.values))\n",
    "    next_embs = torch.cat(list(next_embs.values))"
   ]
  },
  {
   "cell_type": "code",
   "execution_count": 65,
   "metadata": {
    "tags": []
   },
   "outputs": [
    {
     "data": {
      "text/plain": [
       "(torch.Size([50000, 128]), torch.Size([50000, 128]))"
      ]
     },
     "execution_count": 65,
     "metadata": {},
     "output_type": "execute_result"
    }
   ],
   "source": [
    "next_embs.shape, context_embs.shape"
   ]
  },
  {
   "cell_type": "code",
   "execution_count": 68,
   "metadata": {
    "tags": []
   },
   "outputs": [],
   "source": [
    "context_embeddings = context_embs\n",
    "track_embeddings = next_embs "
   ]
  },
  {
   "cell_type": "code",
   "execution_count": null,
   "metadata": {
    "id": "m7_A20no8Njp",
    "tags": []
   },
   "outputs": [],
   "source": [
    "k = 100\n",
    "with open(DATA_DIR + \"tracks_with_artists_context_recs.json\", \"w\") as rf:\n",
    "    for _, track in tqdm.tqdm(tracks_df.iterrows()):\n",
    "        embedding = context_embeddings[track[\"track\"]]\n",
    "        neighbours = np.argpartition(-np.dot(track_embeddings, embedding), k)[:k]\n",
    "\n",
    "        recommendation = dict(track)\n",
    "        recommendation[\"recommendations\"] = neighbours.tolist()\n",
    "\n",
    "        rf.write(json.dumps(recommendation) + \"\\n\")"
   ]
  },
  {
   "cell_type": "code",
   "execution_count": 70,
   "metadata": {
    "id": "QhS_o_ff8Njp",
    "tags": []
   },
   "outputs": [
    {
     "data": {
      "text/html": [
       "<div>\n",
       "<style scoped>\n",
       "    .dataframe tbody tr th:only-of-type {\n",
       "        vertical-align: middle;\n",
       "    }\n",
       "\n",
       "    .dataframe tbody tr th {\n",
       "        vertical-align: top;\n",
       "    }\n",
       "\n",
       "    .dataframe thead th {\n",
       "        text-align: right;\n",
       "    }\n",
       "</style>\n",
       "<table border=\"1\" class=\"dataframe\">\n",
       "  <thead>\n",
       "    <tr style=\"text-align: right;\">\n",
       "      <th></th>\n",
       "      <th>artist</th>\n",
       "      <th>title</th>\n",
       "    </tr>\n",
       "  </thead>\n",
       "  <tbody>\n",
       "    <tr>\n",
       "      <th>7</th>\n",
       "      <td>Kanye West</td>\n",
       "      <td>Stronger</td>\n",
       "    </tr>\n",
       "  </tbody>\n",
       "</table>\n",
       "</div>"
      ],
      "text/plain": [
       "       artist     title\n",
       "7  Kanye West  Stronger"
      ]
     },
     "execution_count": 70,
     "metadata": {},
     "output_type": "execute_result"
    }
   ],
   "source": [
    "track = 7\n",
    "embedding = context_embeddings[track]\n",
    "tracks_df.loc[tracks_df[\"track\"] == track, [\"artist\", \"title\"]]"
   ]
  },
  {
   "cell_type": "code",
   "execution_count": 72,
   "metadata": {
    "id": "gGFHEN8g8Njq",
    "tags": []
   },
   "outputs": [
    {
     "data": {
      "text/html": [
       "<div>\n",
       "<style scoped>\n",
       "    .dataframe tbody tr th:only-of-type {\n",
       "        vertical-align: middle;\n",
       "    }\n",
       "\n",
       "    .dataframe tbody tr th {\n",
       "        vertical-align: top;\n",
       "    }\n",
       "\n",
       "    .dataframe thead th {\n",
       "        text-align: right;\n",
       "    }\n",
       "</style>\n",
       "<table border=\"1\" class=\"dataframe\">\n",
       "  <thead>\n",
       "    <tr style=\"text-align: right;\">\n",
       "      <th></th>\n",
       "      <th>artist</th>\n",
       "      <th>title</th>\n",
       "    </tr>\n",
       "  </thead>\n",
       "  <tbody>\n",
       "    <tr>\n",
       "      <th>1305</th>\n",
       "      <td>Jason Derulo</td>\n",
       "      <td>Whatcha Say</td>\n",
       "    </tr>\n",
       "    <tr>\n",
       "      <th>2241</th>\n",
       "      <td>Kid Cudi</td>\n",
       "      <td>Cudi Zone</td>\n",
       "    </tr>\n",
       "    <tr>\n",
       "      <th>2254</th>\n",
       "      <td>Alliance Ethnik</td>\n",
       "      <td>Représente</td>\n",
       "    </tr>\n",
       "    <tr>\n",
       "      <th>2659</th>\n",
       "      <td>Young Money featuring Lloyd</td>\n",
       "      <td>BedRock (Radio Edit) (feat.Lloyd)</td>\n",
       "    </tr>\n",
       "    <tr>\n",
       "      <th>2790</th>\n",
       "      <td>Kid Cudi</td>\n",
       "      <td>Up Up &amp; Away</td>\n",
       "    </tr>\n",
       "    <tr>\n",
       "      <th>2939</th>\n",
       "      <td>Alliance Ethnik</td>\n",
       "      <td>Sincerité Et Jalousie</td>\n",
       "    </tr>\n",
       "    <tr>\n",
       "      <th>3755</th>\n",
       "      <td>Sheena Easton</td>\n",
       "      <td>Strut (1993 Digital Remaster)</td>\n",
       "    </tr>\n",
       "    <tr>\n",
       "      <th>4632</th>\n",
       "      <td>Beyoncé</td>\n",
       "      <td>Naughty Girl</td>\n",
       "    </tr>\n",
       "    <tr>\n",
       "      <th>15216</th>\n",
       "      <td>Panteón Rococó</td>\n",
       "      <td>Reality Shock</td>\n",
       "    </tr>\n",
       "    <tr>\n",
       "      <th>23694</th>\n",
       "      <td>Masta Killa</td>\n",
       "      <td>Ringing Bells</td>\n",
       "    </tr>\n",
       "  </tbody>\n",
       "</table>\n",
       "</div>"
      ],
      "text/plain": [
       "                            artist                              title\n",
       "1305                  Jason Derulo                        Whatcha Say\n",
       "2241                      Kid Cudi                          Cudi Zone\n",
       "2254               Alliance Ethnik                         Représente\n",
       "2659   Young Money featuring Lloyd  BedRock (Radio Edit) (feat.Lloyd)\n",
       "2790                      Kid Cudi                       Up Up & Away\n",
       "2939               Alliance Ethnik              Sincerité Et Jalousie\n",
       "3755                 Sheena Easton      Strut (1993 Digital Remaster)\n",
       "4632                       Beyoncé                       Naughty Girl\n",
       "15216               Panteón Rococó                      Reality Shock\n",
       "23694                  Masta Killa                      Ringing Bells"
      ]
     },
     "execution_count": 72,
     "metadata": {},
     "output_type": "execute_result"
    }
   ],
   "source": [
    "k = 10\n",
    "#neighbours = np.argsort(-np.dot(track_embeddings, embedding), k)[:k]\n",
    "neighbours = np.argsort(-torch.sigmoid(track_embeddings @ embedding))[:k].numpy()\n",
    "tracks_df.loc[tracks_df[\"track\"].isin(neighbours), [\"artist\", \"title\"]]"
   ]
  }
 ],
 "metadata": {
  "accelerator": "GPU",
  "colab": {
   "provenance": []
  },
  "gpuClass": "standard",
  "kernelspec": {
   "display_name": "rec_sys",
   "language": "python",
   "name": "rec_sys"
  },
  "language_info": {
   "codemirror_mode": {
    "name": "ipython",
    "version": 3
   },
   "file_extension": ".py",
   "mimetype": "text/x-python",
   "name": "python",
   "nbconvert_exporter": "python",
   "pygments_lexer": "ipython3",
   "version": "3.9.16"
  }
 },
 "nbformat": 4,
 "nbformat_minor": 4
}
